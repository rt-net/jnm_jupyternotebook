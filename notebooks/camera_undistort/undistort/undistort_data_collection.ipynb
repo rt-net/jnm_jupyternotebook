{
 "cells": [
  {
   "cell_type": "markdown",
   "metadata": {},
   "source": [
    "# undistort_data_collection\n",
    "カメラキャリブレーション用Notebookである`undistort/undistort.ipynb`、`undistort/undistort_stereo.ipynb`、`undistort/undistort_fisheye.ipynb`、`undistort/undistort_fisheye_stereo.ipynb`で使用する画像を撮影するNotebookです。\n",
    "\n",
    "下記を参考に作成しています。  \n",
    "https://github.com/NVIDIA-AI-IOT/jetbot/blob/master/notebooks/collision_avoidance/data_collection.ipynb"
   ]
  },
  {
   "cell_type": "markdown",
   "metadata": {},
   "source": [
    "## 実行前の準備\n",
    "キャリブレーションを始める前にチェスボードを準備します。下記リンクから画像をダウンロードして紙に印刷するか、スマホ等持ち運べるデバイスの画面に表示してください。紙に印刷した場合はチェスボードが曲がらないように丈夫な板や箱に貼り付けることをおすすめします。\n",
    "\n",
    "https://github.com/opencv/opencv/blob/master/doc/pattern.png\n",
    "\n",
    "`camera_param/camera_config.xml`を編集します。`<chess_size>20.5</chess_size>`の`20.5`の部分を使用しているチェスボードのマスのサイズに書き換えてください。\n",
    "\n",
    "## キャリブレーション用画像の撮影\n",
    "下記に続くセルを順に実行していきます。まずは必要なPythonモジュールを読み込み、Jetson Nano Mouseのカメラを起動します。"
   ]
  },
  {
   "cell_type": "code",
   "execution_count": null,
   "metadata": {},
   "outputs": [],
   "source": [
    "import traitlets\n",
    "import ipywidgets.widgets as widgets\n",
    "from IPython.display import display\n",
    "from jnmouse import Camera, bgr8_to_jpeg\n",
    "import xml.etree.ElementTree as ET\n",
    "from uuid import uuid1\n",
    "\n",
    "tree = ET.parse(\"../camera_param/camera_config.xml\")\n",
    "root = tree.getroot()\n",
    "width = int(root.find(\"camera_param\").find(\"width\").text)\n",
    "height = int(root.find(\"camera_param\").find(\"height\").text)\n",
    "\n",
    "camera = Camera.instance(width=width, height=height, fps=5)\n",
    "image = widgets.Image(format='jpeg', width=width, height=height)  # this width and height doesn't necessarily have to match the camera\n",
    "camera_link = traitlets.dlink((camera, 'value'), (image, 'value'), transform=bgr8_to_jpeg)\n",
    "image_display = widgets.Image(format='jpeg', width=width/2, height=height/2)\n",
    "camera_link_display = traitlets.dlink((camera, 'value'), (image_display, 'value'), transform=bgr8_to_jpeg)\n",
    "\n",
    "camera2 = Camera.instance(sensor_id=1, width=width, height=height, fps=5)\n",
    "image2 = widgets.Image(format='jpeg', width=width, height=height)  # this width and height doesn't necessarily have to match the camera\n",
    "camera_link2 = traitlets.dlink((camera2, 'value'), (image2, 'value'), transform=bgr8_to_jpeg)\n",
    "image2_display = widgets.Image(format='jpeg', width=width/2, height=height/2)\n",
    "camera_link_display = traitlets.dlink((camera2, 'value'), (image2_display, 'value'), transform=bgr8_to_jpeg)"
   ]
  },
  {
   "cell_type": "markdown",
   "metadata": {},
   "source": [
    "実機を動かさなくてもNotebookの動作確認ができるように`chess_images_stereo`にサンプル画像を保存しました。ご自身のJetson Nano Mouseで撮影する際は下記セルを実行してサンプル画像を削除してください。"
   ]
  },
  {
   "cell_type": "code",
   "execution_count": null,
   "metadata": {},
   "outputs": [],
   "source": [
    "!rm ./chess_images_stereo/*.jpg"
   ]
  },
  {
   "cell_type": "markdown",
   "metadata": {},
   "source": [
    "すでにこのNotebookを一度実行済みで、`chess_images`ディレクトリにある画像を消したい場合は下記セルを実行してください。"
   ]
  },
  {
   "cell_type": "code",
   "execution_count": null,
   "metadata": {},
   "outputs": [],
   "source": [
    "!rm ./chess_images/*.jpg"
   ]
  },
  {
   "cell_type": "markdown",
   "metadata": {},
   "source": [
    "撮影画像保存用のディレクトリを作成します。左右片方ずつキャリブレーションを行う際は`images_dir`に文字列`chess_images`を代入します。ステレオカメラのキャリブレーションを行う際は`chess_images_stereo`を代入します。`images_dir`内の文字列は撮影画像の保存先にも用いるのでディレクトリが作成済みであってもこのセルは実行してください。"
   ]
  },
  {
   "cell_type": "code",
   "execution_count": null,
   "metadata": {},
   "outputs": [],
   "source": [
    "import os\n",
    "\n",
    "images_dir = 'chess_images'\n",
    "\n",
    "# we have this \"try/except\" statement because these next functions can throw an error if the directories exist already\n",
    "try:\n",
    "    os.makedirs(images_dir)\n",
    "\n",
    "except FileExistsError:\n",
    "    print('Directories not created becasue they already exist')"
   ]
  },
  {
   "cell_type": "markdown",
   "metadata": {},
   "source": [
    "サンプル画像を用いて単眼カメラのキャリブレーションを行う場合は下記セルを実行してサンプル画像を`chess_images`ディレクトリにコピーしてください。"
   ]
  },
  {
   "cell_type": "code",
   "execution_count": null,
   "metadata": {},
   "outputs": [],
   "source": [
    "!cp ./chess_images_stereo/*.jpg ./chess_images/"
   ]
  },
  {
   "cell_type": "markdown",
   "metadata": {},
   "source": [
    "画像を撮影するボタンと撮影画像枚数を表示するテキストボックスを作成します。"
   ]
  },
  {
   "cell_type": "code",
   "execution_count": null,
   "metadata": {},
   "outputs": [],
   "source": [
    "cap_button = widgets.Button(description='capture image')\n",
    "cap_count = widgets.IntText(value=len(os.listdir(images_dir)))"
   ]
  },
  {
   "cell_type": "markdown",
   "metadata": {},
   "source": [
    "撮影ボタンを押すと画像が保存されるように設定します。"
   ]
  },
  {
   "cell_type": "code",
   "execution_count": null,
   "metadata": {},
   "outputs": [],
   "source": [
    "def save_snapshot():\n",
    "    global images_dir, cap_count\n",
    "    cap_count.value = len(os.listdir(images_dir))\n",
    "    image_path_l = os.path.join(images_dir, str(uuid1()) + '_left.jpg')\n",
    "    image_path_r = os.path.join(images_dir, str(uuid1()) + '_right.jpg')\n",
    "    with open(image_path_l, 'wb') as fl, open(image_path_r, 'wb') as fr:\n",
    "        fl.write(image.value)\n",
    "        fr.write(image2.value)\n",
    "\n",
    "cap_button.on_click(lambda x: save_snapshot())"
   ]
  },
  {
   "cell_type": "markdown",
   "metadata": {},
   "source": [
    "下記セルを実行するとカメラ画像のプレビューと撮影ボタン、テキストボックスが表示されます。用意したチェスボードをカメラの前に構えて撮影してください。`capture image`ボタンをクリックすることで撮影できます。ボタン横のテキストボックスが撮影した画像の枚数です。テキストボックス内の数字が60くらいになるまで撮影することをお勧めします。\n",
    "\n",
    "* 撮影の注意点\n",
    "  * キャリブレーション用画像からチェスボードがはみ出ないように気を付けてください。市松模様の周囲にある余白も含めて撮影します。\n",
    "  * ステレオカメラのキャリブレーションを行う際は両方のカメラの画角にチェスボードが収まるように撮影してください。\n",
    "  * 光の反射によってチェスボードが白飛びしないようにしてください。\n",
    "  * 撮影するチェスボードは様々な位置姿勢であることが好ましいです。同じ位置姿勢で撮影せずに遠ざけたり近づけたり、傾けたりしながら撮影するとキャリブレーションの品質が良くなります。"
   ]
  },
  {
   "cell_type": "code",
   "execution_count": null,
   "metadata": {},
   "outputs": [],
   "source": [
    "display(widgets.HBox([image_display, cap_count, cap_button]))\n",
    "display(image2_display)"
   ]
  }
 ],
 "metadata": {
  "kernelspec": {
   "display_name": "Python 3",
   "language": "python",
   "name": "python3"
  },
  "language_info": {
   "codemirror_mode": {
    "name": "ipython",
    "version": 3
   },
   "file_extension": ".py",
   "mimetype": "text/x-python",
   "name": "python",
   "nbconvert_exporter": "python",
   "pygments_lexer": "ipython3",
   "version": "3.6.9"
  }
 },
 "nbformat": 4,
 "nbformat_minor": 4
}
